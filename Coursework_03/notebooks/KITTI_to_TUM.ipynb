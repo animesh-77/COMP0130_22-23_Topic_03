{
 "cells": [
  {
   "cell_type": "code",
   "execution_count": 1,
   "metadata": {},
   "outputs": [
    {
     "name": "stdout",
     "output_type": "stream",
     "text": [
      "robo_nav\n"
     ]
    }
   ],
   "source": [
    "import os\n",
    "print(os.environ['CONDA_DEFAULT_ENV']) # should be robo_nav"
   ]
  },
  {
   "cell_type": "code",
   "execution_count": 2,
   "metadata": {},
   "outputs": [],
   "source": [
    "from evo.core.trajectory import PoseTrajectory3D\n",
    "from evo.tools import file_interface\n",
    "import numpy as np\n",
    "\n",
    "DESC = \"Combine KITTI poses and timestamps files to a TUM trajectory file\"\n",
    "\n",
    "\n",
    "def kitti_poses_and_timestamps_to_trajectory(poses_file, timestamp_file):\n",
    "    pose_path = file_interface.read_kitti_poses_file(poses_file)\n",
    "    raw_timestamps_mat = file_interface.csv_read_matrix(timestamp_file)\n",
    "    error_msg = (\"timestamp file must have one column of timestamps and same number of rows as the KITTI poses file\")\n",
    "    if len(raw_timestamps_mat) > 0 and len(raw_timestamps_mat[0]) != 1 or len(raw_timestamps_mat) != pose_path.num_poses:\n",
    "        raise file_interface.FileInterfaceException(error_msg)\n",
    "    try:\n",
    "        timestamps_mat = np.array(raw_timestamps_mat).astype(float)\n",
    "    except ValueError:\n",
    "        raise file_interface.FileInterfaceException(error_msg)\n",
    "    return PoseTrajectory3D(poses_se3=pose_path.poses_se3, timestamps=timestamps_mat)\n",
    "\n",
    "\n",
    "# if __name__ == \"__main__\":\n",
    "#     import argparse\n",
    "#     parser = argparse.ArgumentParser(description=DESC)\n",
    "#     parser.add_argument(\"poses_file\", help=\"pose path file in KITTI format\")\n",
    "#     parser.add_argument(\n",
    "#         \"timestamp_file\", help=\"KITTI timestamp file of the poses\")\n",
    "#     parser.add_argument(\n",
    "#         \"trajectory_out\", help=\"output file path for trajectory in TUM format\")\n",
    "#     args = parser.parse_args()\n",
    "    # trajectory = kitti_poses_and_timestamps_to_trajectory(\n",
    "    #     args.poses_file, args.timestamp_file)\n",
    "    # file_interface.write_tum_trajectory_file(args.trajectory_out, trajectory)\n"
   ]
  },
  {
   "cell_type": "code",
   "execution_count": 5,
   "metadata": {},
   "outputs": [
    {
     "name": "stdout",
     "output_type": "stream",
     "text": [
      "Done converting to TUM format\n"
     ]
    }
   ],
   "source": [
    "seq= \"10\"\n",
    "\n",
    "trajectory= kitti_poses_and_timestamps_to_trajectory(poses_file= rf\"/home/animesh/Desktop/RobotVision/CW3/COMP0130_22-23_Topic_03/data_odometry_gray/dataset/sequences/{seq}/{seq}.txt\",\n",
    "                                         timestamp_file= rf\"/home/animesh/Desktop/RobotVision/CW3/COMP0130_22-23_Topic_03/data_odometry_gray/dataset/sequences/{seq}/times.txt\",)\n",
    "\n",
    "file_interface.write_tum_trajectory_file(r\"/home/animesh/Desktop/RobotVision/CW3/COMP0130_22-23_Topic_03/data_odometry_gray/dataset/sequences/10/10_TUM.txt\", trajectory)\n",
    "print(\"Done converting to TUM format\")\n"
   ]
  },
  {
   "cell_type": "code",
   "execution_count": null,
   "metadata": {},
   "outputs": [],
   "source": []
  }
 ],
 "metadata": {
  "kernelspec": {
   "display_name": "robo_nav",
   "language": "python",
   "name": "python3"
  },
  "language_info": {
   "codemirror_mode": {
    "name": "ipython",
    "version": 3
   },
   "file_extension": ".py",
   "mimetype": "text/x-python",
   "name": "python",
   "nbconvert_exporter": "python",
   "pygments_lexer": "ipython3",
   "version": "3.9.19"
  }
 },
 "nbformat": 4,
 "nbformat_minor": 2
}
